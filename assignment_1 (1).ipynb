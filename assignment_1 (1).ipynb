{
  "nbformat": 4,
  "nbformat_minor": 0,
  "metadata": {
    "colab": {
      "name": "assignment 1.ipynb",
      "provenance": [],
      "collapsed_sections": []
    },
    "kernelspec": {
      "name": "python3",
      "display_name": "Python 3"
    },
    "language_info": {
      "name": "python"
    }
  },
  "cells": [
    {
      "cell_type": "markdown",
      "source": [
        "a=2\n",
        "b=5\n",
        "C=1020\n",
        "X=10000\n",
        "Y=(a*x**2)+(b*x)+c\n",
        "print(Y)"
      ],
      "metadata": {
        "id": "cNMq0gq8jIPD"
      }
    },
    {
      "cell_type": "code",
      "source": [
        "a=2\n",
        "b=5 \n",
        "C=1020 \n",
        "X=10000\n",
        "Y=(a*X**2)+(b*X)+C\n",
        "print(Y)"
      ],
      "metadata": {
        "colab": {
          "base_uri": "https://localhost:8080/"
        },
        "id": "TN5v6QlUjiy8",
        "outputId": "17f36e9c-51ec-4d9e-8da8-efb1101fc49e"
      },
      "execution_count": null,
      "outputs": [
        {
          "output_type": "stream",
          "name": "stdout",
          "text": [
            "200051020\n"
          ]
        }
      ]
    },
    {
      "cell_type": "code",
      "execution_count": null,
      "metadata": {
        "colab": {
          "base_uri": "https://localhost:8080/"
        },
        "id": "pBPVYYNqiqUW",
        "outputId": "f8c0cfb4-62f3-4c53-a50b-b719b4584e68"
      },
      "outputs": [
        {
          "output_type": "stream",
          "name": "stdout",
          "text": [
            "37.77777777777778\n"
          ]
        }
      ],
      "source": [
        "F=100\n",
        "C=(F-32)*5/9\n",
        "print(C)"
      ]
    }
  ]
}