{
  "nbformat": 4,
  "nbformat_minor": 0,
  "metadata": {
    "colab": {
      "name": "assignment 2.ipynb",
      "provenance": []
    },
    "kernelspec": {
      "name": "python3",
      "display_name": "Python 3"
    },
    "language_info": {
      "name": "python"
    }
  },
  "cells": [
    {
      "cell_type": "markdown",
      "source": [
        "Write a small program to check a number is divisible by 7 or not\n"
      ],
      "metadata": {
        "id": "jtZ6aCBpqc6g"
      }
    },
    {
      "cell_type": "code",
      "source": [
        "n=int(input(\"Enter a number:\"))\n",
        "if n%7==0:\n",
        "  print(\"Number is divisible by 7\")\n",
        "else:\n",
        "  print(\"Not divisible by 7\")"
      ],
      "metadata": {
        "colab": {
          "base_uri": "https://localhost:8080/"
        },
        "id": "pgLCaGk0qmKF",
        "outputId": "a3292935-7905-4320-a6bd-2a1213776702"
      },
      "execution_count": null,
      "outputs": [
        {
          "output_type": "stream",
          "name": "stdout",
          "text": [
            "Enter a number:33\n",
            "Not divisible by 7\n"
          ]
        }
      ]
    },
    {
      "cell_type": "markdown",
      "source": [
        "If a number is divisible by either 5 or 7, then we will call it a 'five-or-seven' number.\n",
        "Write down a program to check if a number is 'five-or-seven' number or not."
      ],
      "metadata": {
        "id": "vO99lVuNqtid"
      }
    },
    {
      "cell_type": "code",
      "source": [
        "n=int(input(\"Enter a number:\"))\n",
        "if (n%7==0) and (n%5==0):\n",
        "  print(\"Number is divisible\")\n",
        "elif(n%7==0):\n",
        "  print(\"divisible by only 7\")\n",
        "elif(n%5==0):\n",
        "  print(\"divisible by only 5\")\n",
        "else:\n",
        "  print(\"None\")"
      ],
      "metadata": {
        "colab": {
          "base_uri": "https://localhost:8080/"
        },
        "id": "Q6YR1F1GqucN",
        "outputId": "297701ac-4ce8-4b2b-8bc5-a294de661cd0"
      },
      "execution_count": null,
      "outputs": [
        {
          "output_type": "stream",
          "name": "stdout",
          "text": [
            "Enter a number:34\n",
            "None\n"
          ]
        }
      ]
    },
    {
      "cell_type": "markdown",
      "source": [
        "Write a program to calculate the electricity bill (accept number of unit from user) according to the following criteria:\n",
        "Upto first 100 units Rs. 3 per unit.\n",
        "Next 100 units Rs. 5 per unit.\n",
        "Next 300 units Rs. 7 per unit.\n",
        "Above that, for each unit exceeding 500, Rs. 10 per unit flat."
      ],
      "metadata": {
        "id": "bBgzxIRaqzVO"
      }
    },
    {
      "cell_type": "code",
      "source": [
        "n=int(input(\"enter units of current:\"))\n",
        "amount=0\n",
        "if(n<=100):\n",
        "  amount=n*3\n",
        "elif(n<=200):\n",
        "  amount=n*5\n",
        "elif(n<=500):\n",
        "  amount=n*7\n",
        "else:\n",
        "  amount=n*10\n",
        "print(amount)"
      ],
      "metadata": {
        "colab": {
          "base_uri": "https://localhost:8080/"
        },
        "id": "4pqw8ZqYq4i3",
        "outputId": "feb1ec3c-a598-4714-bd92-dd0b3c3b44d9"
      },
      "execution_count": null,
      "outputs": [
        {
          "output_type": "stream",
          "name": "stdout",
          "text": [
            "enter units of current:34\n",
            "102\n"
          ]
        }
      ]
    },
    {
      "cell_type": "markdown",
      "source": [
        "Find out sum of square of all the numbers upto 10, starting from 1"
      ],
      "metadata": {
        "id": "IeD6eqNEq899"
      }
    },
    {
      "cell_type": "code",
      "source": [
        "n = 10\n",
        "sum = 0\n",
        "for s in range(1,n+1):\n",
        "  sum = sum + (s*s)\n",
        "print(\"Sum of squares is : \", sum)"
      ],
      "metadata": {
        "colab": {
          "base_uri": "https://localhost:8080/"
        },
        "id": "oRvUPM2Zq_pF",
        "outputId": "1639dd60-ffb9-4880-b7ff-1682341b8919"
      },
      "execution_count": null,
      "outputs": [
        {
          "output_type": "stream",
          "name": "stdout",
          "text": [
            "Sum of squares is :  385\n"
          ]
        }
      ]
    },
    {
      "cell_type": "markdown",
      "source": [
        "Find out sum of square of all the even numbers upto 10, starting from 1"
      ],
      "metadata": {
        "id": "yekjvVyprCtA"
      }
    },
    {
      "cell_type": "code",
      "source": [
        "n=int(input(\"Enter no.range\"))\n",
        "s=0\n",
        "i=0\n",
        "while(i<n):\n",
        "  if(i%2==0):\n",
        "    s=s+(i*i)\n",
        "  i+=1\n",
        "print(\"Sum of square of even natural no.is:\",s)"
      ],
      "metadata": {
        "colab": {
          "base_uri": "https://localhost:8080/"
        },
        "id": "o9Jx0VMarEz3",
        "outputId": "a4337b35-841a-4ee8-9ea0-fd6581e26b62"
      },
      "execution_count": null,
      "outputs": [
        {
          "output_type": "stream",
          "name": "stdout",
          "text": [
            "Enter no.range34\n",
            "Sum of square of even natural no.is: 5984\n"
          ]
        }
      ]
    },
    {
      "cell_type": "markdown",
      "source": [
        "Check a number is prime or not"
      ],
      "metadata": {
        "id": "mNL6Rc0prKHH"
      }
    },
    {
      "cell_type": "code",
      "source": [
        "n=int(input(\"Enter any number:\"))\n",
        "if n>1:\n",
        "  for i in range(2,n):\n",
        "    if(n%i == 0):\n",
        "      print(n,\"is not prime\")\n",
        "      break\n",
        "  else:\n",
        "    print(n,\"number is prime\")"
      ],
      "metadata": {
        "colab": {
          "base_uri": "https://localhost:8080/"
        },
        "id": "Xp3JDacsrL33",
        "outputId": "292a971c-a164-4c90-e3c0-df36fc7c9ae2"
      },
      "execution_count": null,
      "outputs": [
        {
          "output_type": "stream",
          "name": "stdout",
          "text": [
            "Enter any number:34\n",
            "34 is not prime\n"
          ]
        }
      ]
    },
    {
      "cell_type": "markdown",
      "source": [
        "Print multiplication table upto 10 starting from 1"
      ],
      "metadata": {
        "id": "73oWx35MrQw-"
      }
    },
    {
      "cell_type": "code",
      "source": [
        "num = 10\n",
        "#iterate 10 times i = 1 to 10\n",
        "for i in range(1,11):\n",
        "  print(num, 'x', i, '=',num*i)"
      ],
      "metadata": {
        "colab": {
          "base_uri": "https://localhost:8080/"
        },
        "id": "16iGlx7lrS-8",
        "outputId": "114a5e8e-3d5c-4f80-ddb1-262de099d5ac"
      },
      "execution_count": null,
      "outputs": [
        {
          "output_type": "stream",
          "name": "stdout",
          "text": [
            "10 x 1 = 10\n",
            "10 x 2 = 20\n",
            "10 x 3 = 30\n",
            "10 x 4 = 40\n",
            "10 x 5 = 50\n",
            "10 x 6 = 60\n",
            "10 x 7 = 70\n",
            "10 x 8 = 80\n",
            "10 x 9 = 90\n",
            "10 x 10 = 100\n"
          ]
        }
      ]
    },
    {
      "cell_type": "markdown",
      "source": [
        "Print the series of first n fibonacci numbers"
      ],
      "metadata": {
        "id": "PtFgTQXCrV0A"
      }
    },
    {
      "cell_type": "code",
      "source": [
        "n = int(input(\"How many terms?\"))\n",
        "\n",
        "#first two terms\n",
        "n1, n2 = 0, 1\n",
        "count = 0\n",
        "\n",
        "# check if the number of terms is valid\n",
        "if n <= 0:\n",
        "  print(\"Please enter a positive integer\")\n",
        "#if there is only one term,return n1\n",
        "elif n == 1:\n",
        "  print(\"Fibonacci sequence upto\",n,\":\")\n",
        "  print(n1)\n",
        "#generate fibonacci sequence\n",
        "else:\n",
        "  print(\"Fibonacci sequence:\")\n",
        "  while count < n:\n",
        "    print(n1)\n",
        "    nth = n1 + n2\n",
        "    # update values\n",
        "    n1 = n2\n",
        "    n2 = nth\n",
        "    count += 1"
      ],
      "metadata": {
        "colab": {
          "base_uri": "https://localhost:8080/"
        },
        "id": "T88POhHWrXUG",
        "outputId": "6331fd53-5405-4750-9dff-92d713207a87"
      },
      "execution_count": null,
      "outputs": [
        {
          "output_type": "stream",
          "name": "stdout",
          "text": [
            "How many terms?34\n",
            "Fibonacci sequence:\n",
            "0\n",
            "1\n",
            "1\n",
            "2\n",
            "3\n",
            "5\n",
            "8\n",
            "13\n",
            "21\n",
            "34\n",
            "55\n",
            "89\n",
            "144\n",
            "233\n",
            "377\n",
            "610\n",
            "987\n",
            "1597\n",
            "2584\n",
            "4181\n",
            "6765\n",
            "10946\n",
            "17711\n",
            "28657\n",
            "46368\n",
            "75025\n",
            "121393\n",
            "196418\n",
            "317811\n",
            "514229\n",
            "832040\n",
            "1346269\n",
            "2178309\n",
            "3524578\n"
          ]
        }
      ]
    }
  ]
}